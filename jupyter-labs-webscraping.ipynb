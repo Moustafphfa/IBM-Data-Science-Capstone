{
 "cells": [
  {
   "cell_type": "markdown",
   "metadata": {},
   "source": [
    "<p style=\"text-align:center\">\n",
    "    <a href=\"https://skills.network\" target=\"_blank\">\n",
    "    <img src=\"https://cf-courses-data.s3.us.cloud-object-storage.appdomain.cloud/assets/logos/SN_web_lightmode.png\" width=\"200\" alt=\"Skills Network Logo\">\n",
    "    </a>\n",
    "</p>\n"
   ]
  },
  {
   "cell_type": "markdown",
   "metadata": {},
   "source": [
    "# **Space X  Falcon 9 First Stage Landing Prediction**\n"
   ]
  },
  {
   "cell_type": "markdown",
   "metadata": {},
   "source": [
    "## Web scraping Falcon 9 and Falcon Heavy Launches Records from Wikipedia\n"
   ]
  },
  {
   "cell_type": "markdown",
   "metadata": {},
   "source": [
    "Estimated time needed: **40** minutes\n"
   ]
  },
  {
   "cell_type": "markdown",
   "metadata": {},
   "source": [
    "In this lab, you will be performing web scraping to collect Falcon 9 historical launch records from a Wikipedia page titled `List of Falcon 9 and Falcon Heavy launches`\n",
    "\n",
    "https://en.wikipedia.org/wiki/List_of_Falcon_9_and_Falcon_Heavy_launches\n"
   ]
  },
  {
   "cell_type": "markdown",
   "metadata": {},
   "source": [
    "![](https://cf-courses-data.s3.us.cloud-object-storage.appdomain.cloud/IBM-DS0321EN-SkillsNetwork/labs/module_1_L2/images/Falcon9_rocket_family.svg)\n"
   ]
  },
  {
   "cell_type": "markdown",
   "metadata": {},
   "source": [
    "Falcon 9 first stage will land successfully\n"
   ]
  },
  {
   "cell_type": "markdown",
   "metadata": {},
   "source": [
    "![](https://cf-courses-data.s3.us.cloud-object-storage.appdomain.cloud/IBMDeveloperSkillsNetwork-DS0701EN-SkillsNetwork/api/Images/landing_1.gif)\n"
   ]
  },
  {
   "cell_type": "markdown",
   "metadata": {},
   "source": [
    "Several examples of an unsuccessful landing are shown here:\n"
   ]
  },
  {
   "cell_type": "markdown",
   "metadata": {},
   "source": [
    "![](https://cf-courses-data.s3.us.cloud-object-storage.appdomain.cloud/IBMDeveloperSkillsNetwork-DS0701EN-SkillsNetwork/api/Images/crash.gif)\n"
   ]
  },
  {
   "cell_type": "markdown",
   "metadata": {},
   "source": [
    "More specifically, the launch records are stored in a HTML table shown below:\n"
   ]
  },
  {
   "cell_type": "markdown",
   "metadata": {},
   "source": [
    "![](https://cf-courses-data.s3.us.cloud-object-storage.appdomain.cloud/IBM-DS0321EN-SkillsNetwork/labs/module_1_L2/images/falcon9-launches-wiki.png)\n"
   ]
  },
  {
   "cell_type": "markdown",
   "metadata": {},
   "source": [
    "  ## Objectives\n",
    "Web scrap Falcon 9 launch records with `BeautifulSoup`: \n",
    "- Extract a Falcon 9 launch records HTML table from Wikipedia\n",
    "- Parse the table and convert it into a Pandas data frame\n"
   ]
  },
  {
   "cell_type": "markdown",
   "metadata": {},
   "source": [
    "First let's import required packages for this lab\n"
   ]
  },
  {
   "cell_type": "code",
   "execution_count": 1,
   "metadata": {
    "tags": []
   },
   "outputs": [
    {
     "name": "stdout",
     "output_type": "stream",
     "text": [
      "Requirement already satisfied: beautifulsoup4 in /home/jupyterlab/conda/envs/python/lib/python3.7/site-packages (4.11.1)\n",
      "Requirement already satisfied: soupsieve>1.2 in /home/jupyterlab/conda/envs/python/lib/python3.7/site-packages (from beautifulsoup4) (2.3.2.post1)\n",
      "Requirement already satisfied: requests in /home/jupyterlab/conda/envs/python/lib/python3.7/site-packages (2.29.0)\n",
      "Requirement already satisfied: charset-normalizer<4,>=2 in /home/jupyterlab/conda/envs/python/lib/python3.7/site-packages (from requests) (3.1.0)\n",
      "Requirement already satisfied: idna<4,>=2.5 in /home/jupyterlab/conda/envs/python/lib/python3.7/site-packages (from requests) (3.4)\n",
      "Requirement already satisfied: urllib3<1.27,>=1.21.1 in /home/jupyterlab/conda/envs/python/lib/python3.7/site-packages (from requests) (1.26.15)\n",
      "Requirement already satisfied: certifi>=2017.4.17 in /home/jupyterlab/conda/envs/python/lib/python3.7/site-packages (from requests) (2023.5.7)\n"
     ]
    }
   ],
   "source": [
    "!pip3 install beautifulsoup4\n",
    "!pip3 install requests"
   ]
  },
  {
   "cell_type": "code",
   "execution_count": 2,
   "metadata": {
    "tags": []
   },
   "outputs": [],
   "source": [
    "import sys\n",
    "\n",
    "import requests\n",
    "from bs4 import BeautifulSoup\n",
    "import re\n",
    "import unicodedata\n",
    "import pandas as pd"
   ]
  },
  {
   "cell_type": "markdown",
   "metadata": {},
   "source": [
    "and we will provide some helper functions for you to process web scraped HTML table\n"
   ]
  },
  {
   "cell_type": "code",
   "execution_count": 3,
   "metadata": {
    "tags": []
   },
   "outputs": [],
   "source": [
    "def date_time(table_cells):\n",
    "    \"\"\"\n",
    "    This function returns the data and time from the HTML  table cell\n",
    "    Input: the  element of a table data cell extracts extra row\n",
    "    \"\"\"\n",
    "    return [data_time.strip() for data_time in list(table_cells.strings)][0:2]\n",
    "\n",
    "def booster_version(table_cells):\n",
    "    \"\"\"\n",
    "    This function returns the booster version from the HTML  table cell \n",
    "    Input: the  element of a table data cell extracts extra row\n",
    "    \"\"\"\n",
    "    out=''.join([booster_version for i,booster_version in enumerate( table_cells.strings) if i%2==0][0:-1])\n",
    "    return out\n",
    "\n",
    "def landing_status(table_cells):\n",
    "    \"\"\"\n",
    "    This function returns the landing status from the HTML table cell \n",
    "    Input: the  element of a table data cell extracts extra row\n",
    "    \"\"\"\n",
    "    out=[i for i in table_cells.strings][0]\n",
    "    return out\n",
    "\n",
    "\n",
    "def get_mass(table_cells):\n",
    "    mass=unicodedata.normalize(\"NFKD\", table_cells.text).strip()\n",
    "    if mass:\n",
    "        mass.find(\"kg\")\n",
    "        new_mass=mass[0:mass.find(\"kg\")+2]\n",
    "    else:\n",
    "        new_mass=0\n",
    "    return new_mass\n",
    "\n",
    "\n",
    "def extract_column_from_header(row):\n",
    "    \"\"\"\n",
    "    This function returns the landing status from the HTML table cell \n",
    "    Input: the  element of a table data cell extracts extra row\n",
    "    \"\"\"\n",
    "    if (row.br):\n",
    "        row.br.extract()\n",
    "    if row.a:\n",
    "        row.a.extract()\n",
    "    if row.sup:\n",
    "        row.sup.extract()\n",
    "        \n",
    "    colunm_name = ' '.join(row.contents)\n",
    "    \n",
    "    # Filter the digit and empty names\n",
    "    if not(colunm_name.strip().isdigit()):\n",
    "        colunm_name = colunm_name.strip()\n",
    "        return colunm_name    \n"
   ]
  },
  {
   "cell_type": "markdown",
   "metadata": {},
   "source": [
    "To keep the lab tasks consistent, you will be asked to scrape the data from a snapshot of the  `List of Falcon 9 and Falcon Heavy launches` Wikipage updated on\n",
    "`9th June 2021`\n"
   ]
  },
  {
   "cell_type": "code",
   "execution_count": 4,
   "metadata": {
    "tags": []
   },
   "outputs": [],
   "source": [
    "static_url = \"https://en.wikipedia.org/w/index.php?title=List_of_Falcon_9_and_Falcon_Heavy_launches&oldid=1027686922\""
   ]
  },
  {
   "cell_type": "markdown",
   "metadata": {},
   "source": [
    "Next, request the HTML page from the above URL and get a `response` object\n"
   ]
  },
  {
   "cell_type": "markdown",
   "metadata": {},
   "source": [
    "### TASK 1: Request the Falcon9 Launch Wiki page from its URL\n"
   ]
  },
  {
   "cell_type": "markdown",
   "metadata": {},
   "source": [
    "First, let's perform an HTTP GET method to request the Falcon9 Launch HTML page, as an HTTP response.\n"
   ]
  },
  {
   "cell_type": "code",
   "execution_count": 26,
   "metadata": {
    "tags": []
   },
   "outputs": [
    {
     "name": "stdout",
     "output_type": "stream",
     "text": [
      "200\n"
     ]
    }
   ],
   "source": [
    "\n",
    "headers = {\"User-Agent\": \"Mozilla/5.0 (X11; Linux x86_64) AppleWebKit/537.36 \"\n",
    "                         \"(KHTML, like Gecko) Chrome/91.0.4472.124 Safari/537.36\"}\n",
    "\n",
    "response = requests.get(static_url, headers=headers)\n",
    "\n",
    "print(response.status_code)  # should now be 200\n",
    "soup = BeautifulSoup(response.text, \"html.parser\")\n"
   ]
  },
  {
   "cell_type": "markdown",
   "metadata": {},
   "source": [
    "Create a `BeautifulSoup` object from the HTML `response`\n"
   ]
  },
  {
   "cell_type": "code",
   "execution_count": 19,
   "metadata": {
    "tags": []
   },
   "outputs": [],
   "source": [
    "# Use BeautifulSoup() to create a BeautifulSoup object from a response text content\n"
   ]
  },
  {
   "cell_type": "markdown",
   "metadata": {},
   "source": [
    "Print the page title to verify if the `BeautifulSoup` object was created properly \n"
   ]
  },
  {
   "cell_type": "code",
   "execution_count": 27,
   "metadata": {
    "tags": []
   },
   "outputs": [
    {
     "name": "stdout",
     "output_type": "stream",
     "text": [
      "<title>List of Falcon 9 and Falcon Heavy launches - Wikipedia</title>\n"
     ]
    }
   ],
   "source": [
    "# Use soup.title attribute\n",
    "print(soup.title)"
   ]
  },
  {
   "cell_type": "markdown",
   "metadata": {},
   "source": [
    "### TASK 2: Extract all column/variable names from the HTML table header\n"
   ]
  },
  {
   "cell_type": "markdown",
   "metadata": {},
   "source": [
    "Next, we want to collect all relevant column names from the HTML table header\n"
   ]
  },
  {
   "cell_type": "markdown",
   "metadata": {},
   "source": [
    "Let's try to find all tables on the wiki page first. If you need to refresh your memory about `BeautifulSoup`, please check the external reference link towards the end of this lab\n"
   ]
  },
  {
   "cell_type": "code",
   "execution_count": 32,
   "metadata": {
    "tags": []
   },
   "outputs": [],
   "source": [
    "# Use the find_all function in the BeautifulSoup object, with element type `table`\n",
    "# Assign the result to a list called `html_tables`\n",
    "# Find all table elements in the HTML\n",
    "html_tables = soup.find_all(\"table\")\n",
    "\n"
   ]
  },
  {
   "cell_type": "markdown",
   "metadata": {},
   "source": [
    "Starting from the third table is our target table contains the actual launch records.\n"
   ]
  },
  {
   "cell_type": "code",
   "execution_count": 33,
   "metadata": {
    "tags": []
   },
   "outputs": [
    {
     "name": "stdout",
     "output_type": "stream",
     "text": [
      "<table class=\"wikitable plainrowheaders collapsible\" style=\"width: 100%;\">\n",
      "<tbody><tr>\n",
      "<th scope=\"col\">Flight No.\n",
      "</th>\n",
      "<th scope=\"col\">Date and<br/>time (<a href=\"/wiki/Coordinated_Universal_Time\" title=\"Coordinated Universal Time\">UTC</a>)\n",
      "</th>\n",
      "<th scope=\"col\"><a href=\"/wiki/List_of_Falcon_9_first-stage_boosters\" title=\"List of Falcon 9 first-stage boosters\">Version,<br/>Booster</a> <sup class=\"reference\" id=\"cite_ref-booster_11-0\"><a href=\"#cite_note-booster-11\"><span class=\"cite-bracket\">[</span>b<span class=\"cite-bracket\">]</span></a></sup>\n",
      "</th>\n",
      "<th scope=\"col\">Launch site\n",
      "</th>\n",
      "<th scope=\"col\">Payload<sup class=\"reference\" id=\"cite_ref-Dragon_12-0\"><a href=\"#cite_note-Dragon-12\"><span class=\"cite-bracket\">[</span>c<span class=\"cite-bracket\">]</span></a></sup>\n",
      "</th>\n",
      "<th scope=\"col\">Payload mass\n",
      "</th>\n",
      "<th scope=\"col\">Orbit\n",
      "</th>\n",
      "<th scope=\"col\">Customer\n",
      "</th>\n",
      "<th scope=\"col\">Launch<br/>outcome\n",
      "</th>\n",
      "<th scope=\"col\"><a href=\"/wiki/Falcon_9_first-stage_landing_tests\" title=\"Falcon 9 first-stage landing tests\">Booster<br/>landing</a>\n",
      "</th></tr>\n",
      "<tr>\n",
      "<th rowspan=\"2\" scope=\"row\" style=\"text-align:center;\">1\n",
      "</th>\n",
      "<td>4 June 2010,<br/>18:45\n",
      "</td>\n",
      "<td><a href=\"/wiki/Falcon_9_v1.0\" title=\"Falcon 9 v1.0\">F9 v1.0</a><sup class=\"reference\" id=\"cite_ref-MuskMay2012_13-0\"><a href=\"#cite_note-MuskMay2012-13\"><span class=\"cite-bracket\">[</span>7<span class=\"cite-bracket\">]</span></a></sup><br/>B0003.1<sup class=\"reference\" id=\"cite_ref-block_numbers_14-0\"><a href=\"#cite_note-block_numbers-14\"><span class=\"cite-bracket\">[</span>8<span class=\"cite-bracket\">]</span></a></sup>\n",
      "</td>\n",
      "<td><a href=\"/wiki/Cape_Canaveral_Space_Force_Station\" title=\"Cape Canaveral Space Force Station\">CCAFS</a>,<br/><a href=\"/wiki/Cape_Canaveral_Space_Launch_Complex_40\" title=\"Cape Canaveral Space Launch Complex 40\">SLC-40</a>\n",
      "</td>\n",
      "<td><a href=\"/wiki/Dragon_Spacecraft_Qualification_Unit\" title=\"Dragon Spacecraft Qualification Unit\">Dragon Spacecraft Qualification Unit</a>\n",
      "</td>\n",
      "<td>\n",
      "</td>\n",
      "<td><a href=\"/wiki/Low_Earth_orbit\" title=\"Low Earth orbit\">LEO</a>\n",
      "</td>\n",
      "<td><a href=\"/wiki/SpaceX\" title=\"SpaceX\">SpaceX</a>\n",
      "</td>\n",
      "<td class=\"table-success\" style=\"background: #9EFF9E; color:black; vertical-align: middle; text-align: center;\">Success\n",
      "</td>\n",
      "<td class=\"table-failure\" style=\"background: #FFC7C7; color:black; vertical-align: middle; text-align: center;\">Failure<sup class=\"reference\" id=\"cite_ref-ns20110930_15-0\"><a href=\"#cite_note-ns20110930-15\"><span class=\"cite-bracket\">[</span>9<span class=\"cite-bracket\">]</span></a></sup><sup class=\"reference\" id=\"cite_ref-16\"><a href=\"#cite_note-16\"><span class=\"cite-bracket\">[</span>10<span class=\"cite-bracket\">]</span></a></sup><br/><small>(parachute)</small>\n",
      "</td></tr>\n",
      "<tr>\n",
      "<td colspan=\"9\">First flight of Falcon 9 v1.0.<sup class=\"reference\" id=\"cite_ref-sfn20100604_17-0\"><a href=\"#cite_note-sfn20100604-17\"><span class=\"cite-bracket\">[</span>11<span class=\"cite-bracket\">]</span></a></sup> Used a boilerplate version of Dragon capsule which was not designed to separate from the second stage.<small>(<a href=\"#First_flight_of_Falcon_9\">more details below</a>)</small> Attempted to recover the first stage by parachuting it into the ocean, but it burned up on reentry, before the parachutes even deployed.<sup class=\"reference\" id=\"cite_ref-parachute_18-0\"><a href=\"#cite_note-parachute-18\"><span class=\"cite-bracket\">[</span>12<span class=\"cite-bracket\">]</span></a></sup>\n",
      "</td></tr>\n",
      "<tr>\n",
      "<th rowspan=\"2\" scope=\"row\" style=\"text-align:center;\">2\n",
      "</th>\n",
      "<td>8 December 2010,<br/>15:43<sup class=\"reference\" id=\"cite_ref-spaceflightnow_Clark_Launch_Report_19-0\"><a href=\"#cite_note-spaceflightnow_Clark_Launch_Report-19\"><span class=\"cite-bracket\">[</span>13<span class=\"cite-bracket\">]</span></a></sup>\n",
      "</td>\n",
      "<td><a href=\"/wiki/Falcon_9_v1.0\" title=\"Falcon 9 v1.0\">F9 v1.0</a><sup class=\"reference\" id=\"cite_ref-MuskMay2012_13-1\"><a href=\"#cite_note-MuskMay2012-13\"><span class=\"cite-bracket\">[</span>7<span class=\"cite-bracket\">]</span></a></sup><br/>B0004.1<sup class=\"reference\" id=\"cite_ref-block_numbers_14-1\"><a href=\"#cite_note-block_numbers-14\"><span class=\"cite-bracket\">[</span>8<span class=\"cite-bracket\">]</span></a></sup>\n",
      "</td>\n",
      "<td><a href=\"/wiki/Cape_Canaveral_Space_Force_Station\" title=\"Cape Canaveral Space Force Station\">CCAFS</a>,<br/><a href=\"/wiki/Cape_Canaveral_Space_Launch_Complex_40\" title=\"Cape Canaveral Space Launch Complex 40\">SLC-40</a>\n",
      "</td>\n",
      "<td><a href=\"/wiki/SpaceX_Dragon\" title=\"SpaceX Dragon\">Dragon</a> <a class=\"mw-redirect\" href=\"/wiki/COTS_Demo_Flight_1\" title=\"COTS Demo Flight 1\">demo flight C1</a><br/>(Dragon C101)\n",
      "</td>\n",
      "<td>\n",
      "</td>\n",
      "<td><a href=\"/wiki/Low_Earth_orbit\" title=\"Low Earth orbit\">LEO</a> (<a href=\"/wiki/International_Space_Station\" title=\"International Space Station\">ISS</a>)\n",
      "</td>\n",
      "<td><style data-mw-deduplicate=\"TemplateStyles:r1126788409\">.mw-parser-output .plainlist ol,.mw-parser-output .plainlist ul{line-height:inherit;list-style:none;margin:0;padding:0}.mw-parser-output .plainlist ol li,.mw-parser-output .plainlist ul li{margin-bottom:0}</style><div class=\"plainlist\">\n",
      "<ul><li><a href=\"/wiki/NASA\" title=\"NASA\">NASA</a> (<a href=\"/wiki/Commercial_Orbital_Transportation_Services\" title=\"Commercial Orbital Transportation Services\">COTS</a>)</li>\n",
      "<li><a href=\"/wiki/National_Reconnaissance_Office\" title=\"National Reconnaissance Office\">NRO</a></li></ul>\n",
      "</div>\n",
      "</td>\n",
      "<td class=\"table-success\" style=\"background: #9EFF9E; color:black; vertical-align: middle; text-align: center;\">Success<sup class=\"reference\" id=\"cite_ref-ns20110930_15-1\"><a href=\"#cite_note-ns20110930-15\"><span class=\"cite-bracket\">[</span>9<span class=\"cite-bracket\">]</span></a></sup>\n",
      "</td>\n",
      "<td class=\"table-failure\" style=\"background: #FFC7C7; color:black; vertical-align: middle; text-align: center;\">Failure<sup class=\"reference\" id=\"cite_ref-ns20110930_15-2\"><a href=\"#cite_note-ns20110930-15\"><span class=\"cite-bracket\">[</span>9<span class=\"cite-bracket\">]</span></a></sup><sup class=\"reference\" id=\"cite_ref-20\"><a href=\"#cite_note-20\"><span class=\"cite-bracket\">[</span>14<span class=\"cite-bracket\">]</span></a></sup><br/><small>(parachute)</small>\n",
      "</td></tr>\n",
      "<tr>\n",
      "<td colspan=\"9\">Maiden flight of <a class=\"mw-redirect\" href=\"/wiki/Dragon_capsule\" title=\"Dragon capsule\">Dragon capsule</a>, consisting of over 3 hours of testing thruster maneuvering and reentry.<sup class=\"reference\" id=\"cite_ref-spaceflightnow_Clark_unleashing_Dragon_21-0\"><a href=\"#cite_note-spaceflightnow_Clark_unleashing_Dragon-21\"><span class=\"cite-bracket\">[</span>15<span class=\"cite-bracket\">]</span></a></sup> Attempted to recover the first stage by parachuting it into the ocean, but it disintegrated upon reentry, before the parachutes were deployed.<sup class=\"reference\" id=\"cite_ref-parachute_18-1\"><a href=\"#cite_note-parachute-18\"><span class=\"cite-bracket\">[</span>12<span class=\"cite-bracket\">]</span></a></sup> <small>(<a href=\"#COTS_demo_missions\">more details below</a>)</small> It also included two <a href=\"/wiki/CubeSat\" title=\"CubeSat\">CubeSats</a>,<sup class=\"reference\" id=\"cite_ref-NRO_Taps_Boeing_for_Next_Batch_of_CubeSats_22-0\"><a href=\"#cite_note-NRO_Taps_Boeing_for_Next_Batch_of_CubeSats-22\"><span class=\"cite-bracket\">[</span>16<span class=\"cite-bracket\">]</span></a></sup> and a wheel of <a href=\"/wiki/Brou%C3%A8re\" title=\"Brouère\">Brouère</a> cheese.\n",
      "</td></tr>\n",
      "<tr>\n",
      "<th rowspan=\"2\" scope=\"row\" style=\"text-align:center;\">3\n",
      "</th>\n",
      "<td>22 May 2012,<br/>07:44<sup class=\"reference\" id=\"cite_ref-BBC_new_era_23-0\"><a href=\"#cite_note-BBC_new_era-23\"><span class=\"cite-bracket\">[</span>17<span class=\"cite-bracket\">]</span></a></sup>\n",
      "</td>\n",
      "<td><a href=\"/wiki/Falcon_9_v1.0\" title=\"Falcon 9 v1.0\">F9 v1.0</a><sup class=\"reference\" id=\"cite_ref-MuskMay2012_13-2\"><a href=\"#cite_note-MuskMay2012-13\"><span class=\"cite-bracket\">[</span>7<span class=\"cite-bracket\">]</span></a></sup><br/>B0005.1<sup class=\"reference\" id=\"cite_ref-block_numbers_14-2\"><a href=\"#cite_note-block_numbers-14\"><span class=\"cite-bracket\">[</span>8<span class=\"cite-bracket\">]</span></a></sup>\n",
      "</td>\n",
      "<td><a href=\"/wiki/Cape_Canaveral_Space_Force_Station\" title=\"Cape Canaveral Space Force Station\">CCAFS</a>,<br/><a href=\"/wiki/Cape_Canaveral_Space_Launch_Complex_40\" title=\"Cape Canaveral Space Launch Complex 40\">SLC-40</a>\n",
      "</td>\n",
      "<td><a href=\"/wiki/SpaceX_Dragon\" title=\"SpaceX Dragon\">Dragon</a> <a class=\"mw-redirect\" href=\"/wiki/Dragon_C2%2B\" title=\"Dragon C2+\">demo flight C2+</a><sup class=\"reference\" id=\"cite_ref-C2_24-0\"><a href=\"#cite_note-C2-24\"><span class=\"cite-bracket\">[</span>18<span class=\"cite-bracket\">]</span></a></sup><br/>(Dragon C102)\n",
      "</td>\n",
      "<td>525 kg (1,157 lb)<sup class=\"reference\" id=\"cite_ref-25\"><a href=\"#cite_note-25\"><span class=\"cite-bracket\">[</span>19<span class=\"cite-bracket\">]</span></a></sup>\n",
      "</td>\n",
      "<td><a href=\"/wiki/Low_Earth_orbit\" title=\"Low Earth orbit\">LEO</a> (<a href=\"/wiki/International_Space_Station\" title=\"International Space Station\">ISS</a>)\n",
      "</td>\n",
      "<td><a href=\"/wiki/NASA\" title=\"NASA\">NASA</a> (<a href=\"/wiki/Commercial_Orbital_Transportation_Services\" title=\"Commercial Orbital Transportation Services\">COTS</a>)\n",
      "</td>\n",
      "<td class=\"table-success\" style=\"background: #9EFF9E; color:black; vertical-align: middle; text-align: center;\">Success<sup class=\"reference\" id=\"cite_ref-26\"><a href=\"#cite_note-26\"><span class=\"cite-bracket\">[</span>20<span class=\"cite-bracket\">]</span></a></sup>\n",
      "</td>\n",
      "<td class=\"table-noAttempt\" style=\"background: #EEE; color:black; vertical-align: middle; white-space: nowrap; text-align: center;\">No attempt\n",
      "</td></tr>\n",
      "<tr>\n",
      "<td colspan=\"9\">Dragon spacecraft demonstrated a series of tests before it was allowed to approach the <a href=\"/wiki/International_Space_Station\" title=\"International Space Station\">International Space Station</a>. Two days later, it became the first commercial spacecraft to board the ISS.<sup class=\"reference\" id=\"cite_ref-BBC_new_era_23-1\"><a href=\"#cite_note-BBC_new_era-23\"><span class=\"cite-bracket\">[</span>17<span class=\"cite-bracket\">]</span></a></sup> <small>(<a href=\"#COTS_demo_missions\">more details below</a>)</small>\n",
      "</td></tr>\n",
      "<tr>\n",
      "<th rowspan=\"3\" scope=\"row\" style=\"text-align:center;\">4\n",
      "</th>\n",
      "<td rowspan=\"2\">8 October 2012,<br/>00:35<sup class=\"reference\" id=\"cite_ref-SFN_LLog_27-0\"><a href=\"#cite_note-SFN_LLog-27\"><span class=\"cite-bracket\">[</span>21<span class=\"cite-bracket\">]</span></a></sup>\n",
      "</td>\n",
      "<td rowspan=\"2\"><a href=\"/wiki/Falcon_9_v1.0\" title=\"Falcon 9 v1.0\">F9 v1.0</a><sup class=\"reference\" id=\"cite_ref-MuskMay2012_13-3\"><a href=\"#cite_note-MuskMay2012-13\"><span class=\"cite-bracket\">[</span>7<span class=\"cite-bracket\">]</span></a></sup><br/>B0006.1<sup class=\"reference\" id=\"cite_ref-block_numbers_14-3\"><a href=\"#cite_note-block_numbers-14\"><span class=\"cite-bracket\">[</span>8<span class=\"cite-bracket\">]</span></a></sup>\n",
      "</td>\n",
      "<td rowspan=\"2\"><a href=\"/wiki/Cape_Canaveral_Space_Force_Station\" title=\"Cape Canaveral Space Force Station\">CCAFS</a>,<br/><a href=\"/wiki/Cape_Canaveral_Space_Launch_Complex_40\" title=\"Cape Canaveral Space Launch Complex 40\">SLC-40</a>\n",
      "</td>\n",
      "<td><a href=\"/wiki/SpaceX_CRS-1\" title=\"SpaceX CRS-1\">SpaceX CRS-1</a><sup class=\"reference\" id=\"cite_ref-sxManifest20120925_28-0\"><a href=\"#cite_note-sxManifest20120925-28\"><span class=\"cite-bracket\">[</span>22<span class=\"cite-bracket\">]</span></a></sup><br/>(Dragon C103)\n",
      "</td>\n",
      "<td>4,700 kg (10,400 lb)\n",
      "</td>\n",
      "<td><a href=\"/wiki/Low_Earth_orbit\" title=\"Low Earth orbit\">LEO</a> (<a href=\"/wiki/International_Space_Station\" title=\"International Space Station\">ISS</a>)\n",
      "</td>\n",
      "<td><a href=\"/wiki/NASA\" title=\"NASA\">NASA</a> (<a href=\"/wiki/Commercial_Resupply_Services\" title=\"Commercial Resupply Services\">CRS</a>)\n",
      "</td>\n",
      "<td class=\"table-success\" style=\"background: #9EFF9E; color:black; vertical-align: middle; text-align: center;\">Success\n",
      "</td>\n",
      "<td rowspan=\"2\" style=\"background:#ececec; text-align:center;\"><span class=\"nowrap\">No attempt</span>\n",
      "</td></tr>\n",
      "<tr>\n",
      "<td><a href=\"/wiki/Orbcomm_(satellite)\" title=\"Orbcomm (satellite)\">Orbcomm-OG2</a><sup class=\"reference\" id=\"cite_ref-Orbcomm_29-0\"><a href=\"#cite_note-Orbcomm-29\"><span class=\"cite-bracket\">[</span>23<span class=\"cite-bracket\">]</span></a></sup>\n",
      "</td>\n",
      "<td>172 kg (379 lb)<sup class=\"reference\" id=\"cite_ref-gunter-og2_30-0\"><a href=\"#cite_note-gunter-og2-30\"><span class=\"cite-bracket\">[</span>24<span class=\"cite-bracket\">]</span></a></sup>\n",
      "</td>\n",
      "<td><a href=\"/wiki/Low_Earth_orbit\" title=\"Low Earth orbit\">LEO</a>\n",
      "</td>\n",
      "<td><a href=\"/wiki/Orbcomm\" title=\"Orbcomm\">Orbcomm</a>\n",
      "</td>\n",
      "<td class=\"table-partial\" style=\"background: #FFB; color:black; vertical-align: middle; text-align: center;\">Partial failure<sup class=\"reference\" id=\"cite_ref-nyt-20121030_31-0\"><a href=\"#cite_note-nyt-20121030-31\"><span class=\"cite-bracket\">[</span>25<span class=\"cite-bracket\">]</span></a></sup>\n",
      "</td></tr>\n",
      "<tr>\n",
      "<td colspan=\"9\">CRS-1 was successful, but the <a href=\"/wiki/Secondary_payload\" title=\"Secondary payload\">secondary payload</a> was inserted into an abnormally low orbit and subsequently lost. This was due to one of the nine <a href=\"/wiki/SpaceX_Merlin\" title=\"SpaceX Merlin\">Merlin engines</a> shutting down during the launch, and NASA declining a second reignition, as per <a href=\"/wiki/International_Space_Station\" title=\"International Space Station\">ISS</a> visiting vehicle safety rules, the primary payload owner is contractually allowed to decline a second reignition. NASA stated that this was because SpaceX could not guarantee a high enough likelihood of the second stage completing the second burn successfully which was required to avoid any risk of secondary payload's collision with the ISS.<sup class=\"reference\" id=\"cite_ref-OrbcommTotalLoss_32-0\"><a href=\"#cite_note-OrbcommTotalLoss-32\"><span class=\"cite-bracket\">[</span>26<span class=\"cite-bracket\">]</span></a></sup><sup class=\"reference\" id=\"cite_ref-sn20121011_33-0\"><a href=\"#cite_note-sn20121011-33\"><span class=\"cite-bracket\">[</span>27<span class=\"cite-bracket\">]</span></a></sup><sup class=\"reference\" id=\"cite_ref-34\"><a href=\"#cite_note-34\"><span class=\"cite-bracket\">[</span>28<span class=\"cite-bracket\">]</span></a></sup>\n",
      "</td></tr>\n",
      "<tr>\n",
      "<th rowspan=\"2\" scope=\"row\" style=\"text-align:center;\">5\n",
      "</th>\n",
      "<td>1 March 2013,<br/>15:10\n",
      "</td>\n",
      "<td><a href=\"/wiki/Falcon_9_v1.0\" title=\"Falcon 9 v1.0\">F9 v1.0</a><sup class=\"reference\" id=\"cite_ref-MuskMay2012_13-4\"><a href=\"#cite_note-MuskMay2012-13\"><span class=\"cite-bracket\">[</span>7<span class=\"cite-bracket\">]</span></a></sup><br/>B0007.1<sup class=\"reference\" id=\"cite_ref-block_numbers_14-4\"><a href=\"#cite_note-block_numbers-14\"><span class=\"cite-bracket\">[</span>8<span class=\"cite-bracket\">]</span></a></sup>\n",
      "</td>\n",
      "<td><a href=\"/wiki/Cape_Canaveral_Space_Force_Station\" title=\"Cape Canaveral Space Force Station\">CCAFS</a>,<br/><a href=\"/wiki/Cape_Canaveral_Space_Launch_Complex_40\" title=\"Cape Canaveral Space Launch Complex 40\">SLC-40</a>\n",
      "</td>\n",
      "<td><a href=\"/wiki/SpaceX_CRS-2\" title=\"SpaceX CRS-2\">SpaceX CRS-2</a><sup class=\"reference\" id=\"cite_ref-sxManifest20120925_28-1\"><a href=\"#cite_note-sxManifest20120925-28\"><span class=\"cite-bracket\">[</span>22<span class=\"cite-bracket\">]</span></a></sup><br/>(Dragon C104)\n",
      "</td>\n",
      "<td>4,877 kg (10,752 lb)\n",
      "</td>\n",
      "<td><a href=\"/wiki/Low_Earth_orbit\" title=\"Low Earth orbit\">LEO</a> (<a class=\"mw-redirect\" href=\"/wiki/ISS\" title=\"ISS\">ISS</a>)\n",
      "</td>\n",
      "<td><a href=\"/wiki/NASA\" title=\"NASA\">NASA</a> (<a href=\"/wiki/Commercial_Resupply_Services\" title=\"Commercial Resupply Services\">CRS</a>)\n",
      "</td>\n",
      "<td class=\"table-success\" style=\"background: #9EFF9E; color:black; vertical-align: middle; text-align: center;\">Success\n",
      "</td>\n",
      "<td class=\"table-noAttempt\" style=\"background: #EEE; color:black; vertical-align: middle; white-space: nowrap; text-align: center;\">No attempt\n",
      "</td></tr>\n",
      "<tr>\n",
      "<td colspan=\"9\">Last launch of the original Falcon 9 v1.0 <a href=\"/wiki/Launch_vehicle\" title=\"Launch vehicle\">launch vehicle</a>, first use of the unpressurized trunk section of Dragon.<sup class=\"reference\" id=\"cite_ref-sxf9_20110321_35-0\"><a href=\"#cite_note-sxf9_20110321-35\"><span class=\"cite-bracket\">[</span>29<span class=\"cite-bracket\">]</span></a></sup>\n",
      "</td></tr>\n",
      "<tr>\n",
      "<th rowspan=\"2\" scope=\"row\" style=\"text-align:center;\">6\n",
      "</th>\n",
      "<td>29 September 2013,<br/>16:00<sup class=\"reference\" id=\"cite_ref-pa20130930_36-0\"><a href=\"#cite_note-pa20130930-36\"><span class=\"cite-bracket\">[</span>30<span class=\"cite-bracket\">]</span></a></sup>\n",
      "</td>\n",
      "<td><a href=\"/wiki/Falcon_9_v1.1\" title=\"Falcon 9 v1.1\">F9 v1.1</a><sup class=\"reference\" id=\"cite_ref-MuskMay2012_13-5\"><a href=\"#cite_note-MuskMay2012-13\"><span class=\"cite-bracket\">[</span>7<span class=\"cite-bracket\">]</span></a></sup><br/>B1003<sup class=\"reference\" id=\"cite_ref-block_numbers_14-5\"><a href=\"#cite_note-block_numbers-14\"><span class=\"cite-bracket\">[</span>8<span class=\"cite-bracket\">]</span></a></sup>\n",
      "</td>\n",
      "<td><a class=\"mw-redirect\" href=\"/wiki/Vandenberg_Air_Force_Base\" title=\"Vandenberg Air Force Base\">VAFB</a>,<br/><a href=\"/wiki/Vandenberg_Space_Launch_Complex_4\" title=\"Vandenberg Space Launch Complex 4\">SLC-4E</a>\n",
      "</td>\n",
      "<td><a href=\"/wiki/CASSIOPE\" title=\"CASSIOPE\">CASSIOPE</a><sup class=\"reference\" id=\"cite_ref-sxManifest20120925_28-2\"><a href=\"#cite_note-sxManifest20120925-28\"><span class=\"cite-bracket\">[</span>22<span class=\"cite-bracket\">]</span></a></sup><sup class=\"reference\" id=\"cite_ref-CASSIOPE_MDA_37-0\"><a href=\"#cite_note-CASSIOPE_MDA-37\"><span class=\"cite-bracket\">[</span>31<span class=\"cite-bracket\">]</span></a></sup>\n",
      "</td>\n",
      "<td>500 kg (1,100 lb)\n",
      "</td>\n",
      "<td><a href=\"/wiki/Polar_orbit\" title=\"Polar orbit\">Polar orbit</a> <a href=\"/wiki/Low_Earth_orbit\" title=\"Low Earth orbit\">LEO</a>\n",
      "</td>\n",
      "<td><a href=\"/wiki/Maxar_Technologies\" title=\"Maxar Technologies\">MDA</a>\n",
      "</td>\n",
      "<td class=\"table-success\" style=\"background: #9EFF9E; color:black; vertical-align: middle; text-align: center;\">Success<sup class=\"reference\" id=\"cite_ref-pa20130930_36-1\"><a href=\"#cite_note-pa20130930-36\"><span class=\"cite-bracket\">[</span>30<span class=\"cite-bracket\">]</span></a></sup>\n",
      "</td>\n",
      "<td class=\"table-no2\" style=\"background: #FFE3E3; color: black; vertical-align: middle; text-align: center;\">Uncontrolled<br/><small>(ocean)</small><sup class=\"reference\" id=\"cite_ref-ocean_landing_38-0\"><a href=\"#cite_note-ocean_landing-38\"><span class=\"cite-bracket\">[</span>d<span class=\"cite-bracket\">]</span></a></sup>\n",
      "</td></tr>\n",
      "<tr>\n",
      "<td colspan=\"9\">First commercial mission with a private customer, first launch from Vandenberg, and demonstration flight of Falcon 9 v1.1 with an improved 13-tonne to LEO capacity.<sup class=\"reference\" id=\"cite_ref-sxf9_20110321_35-1\"><a href=\"#cite_note-sxf9_20110321-35\"><span class=\"cite-bracket\">[</span>29<span class=\"cite-bracket\">]</span></a></sup> After separation from the second stage carrying Canadian commercial and scientific satellites, the first stage booster performed a controlled reentry,<sup class=\"reference\" id=\"cite_ref-39\"><a href=\"#cite_note-39\"><span class=\"cite-bracket\">[</span>32<span class=\"cite-bracket\">]</span></a></sup> and an <a href=\"/wiki/Falcon_9_first-stage_landing_tests\" title=\"Falcon 9 first-stage landing tests\">ocean touchdown test</a> for the first time. This provided good test data, even though the booster started rolling as it neared the ocean, leading to the shutdown of the central engine as the roll depleted it of fuel, resulting in a hard impact with the ocean.<sup class=\"reference\" id=\"cite_ref-pa20130930_36-2\"><a href=\"#cite_note-pa20130930-36\"><span class=\"cite-bracket\">[</span>30<span class=\"cite-bracket\">]</span></a></sup> This was the first known attempt of a rocket engine being lit to perform a supersonic retro propulsion, and allowed SpaceX to enter a public-private partnership with <a href=\"/wiki/NASA\" title=\"NASA\">NASA</a> and its Mars entry, descent, and landing technologies research projects.<sup class=\"reference\" id=\"cite_ref-40\"><a href=\"#cite_note-40\"><span class=\"cite-bracket\">[</span>33<span class=\"cite-bracket\">]</span></a></sup> <small>(<a href=\"#Maiden_flight_of_v1.1\">more details below</a>)</small>\n",
      "</td></tr>\n",
      "<tr>\n",
      "<th rowspan=\"2\" scope=\"row\" style=\"text-align:center;\">7\n",
      "</th>\n",
      "<td>3 December 2013,<br/>22:41<sup class=\"reference\" id=\"cite_ref-sfn_wwls20130624_41-0\"><a href=\"#cite_note-sfn_wwls20130624-41\"><span class=\"cite-bracket\">[</span>34<span class=\"cite-bracket\">]</span></a></sup>\n",
      "</td>\n",
      "<td><a href=\"/wiki/Falcon_9_v1.1\" title=\"Falcon 9 v1.1\">F9 v1.1</a><br/>B1004\n",
      "</td>\n",
      "<td><a href=\"/wiki/Cape_Canaveral_Space_Force_Station\" title=\"Cape Canaveral Space Force Station\">CCAFS</a>,<br/><a href=\"/wiki/Cape_Canaveral_Space_Launch_Complex_40\" title=\"Cape Canaveral Space Launch Complex 40\">SLC-40</a>\n",
      "</td>\n",
      "<td><a href=\"/wiki/SES-8\" title=\"SES-8\">SES-8</a><sup class=\"reference\" id=\"cite_ref-sxManifest20120925_28-3\"><a href=\"#cite_note-sxManifest20120925-28\"><span class=\"cite-bracket\">[</span>22<span class=\"cite-bracket\">]</span></a></sup><sup class=\"reference\" id=\"cite_ref-spx-pr_42-0\"><a href=\"#cite_note-spx-pr-42\"><span class=\"cite-bracket\">[</span>35<span class=\"cite-bracket\">]</span></a></sup><sup class=\"reference\" id=\"cite_ref-aw20110323_43-0\"><a href=\"#cite_note-aw20110323-43\"><span class=\"cite-bracket\">[</span>36<span class=\"cite-bracket\">]</span></a></sup>\n",
      "</td>\n",
      "<td>3,170 kg (6,990 lb)\n",
      "</td>\n",
      "<td><a href=\"/wiki/Geostationary_transfer_orbit\" title=\"Geostationary transfer orbit\">GTO</a>\n",
      "</td>\n",
      "<td><a class=\"mw-redirect\" href=\"/wiki/SES_S.A.\" title=\"SES S.A.\">SES</a>\n",
      "</td>\n",
      "<td class=\"table-success\" style=\"background: #9EFF9E; color:black; vertical-align: middle; text-align: center;\">Success<sup class=\"reference\" id=\"cite_ref-SNMissionStatus7_44-0\"><a href=\"#cite_note-SNMissionStatus7-44\"><span class=\"cite-bracket\">[</span>37<span class=\"cite-bracket\">]</span></a></sup>\n",
      "</td>\n",
      "<td class=\"table-noAttempt\" style=\"background: #EEE; color:black; vertical-align: middle; white-space: nowrap; text-align: center;\">No attempt<br/><sup class=\"reference\" id=\"cite_ref-sf10120131203_45-0\"><a href=\"#cite_note-sf10120131203-45\"><span class=\"cite-bracket\">[</span>38<span class=\"cite-bracket\">]</span></a></sup>\n",
      "</td></tr>\n",
      "<tr>\n",
      "<td colspan=\"9\">First <a href=\"/wiki/Geostationary_transfer_orbit\" title=\"Geostationary transfer orbit\">Geostationary transfer orbit</a> (GTO) launch for Falcon 9,<sup class=\"reference\" id=\"cite_ref-spx-pr_42-1\"><a href=\"#cite_note-spx-pr-42\"><span class=\"cite-bracket\">[</span>35<span class=\"cite-bracket\">]</span></a></sup> and first successful reignition of the second stage.<sup class=\"reference\" id=\"cite_ref-46\"><a href=\"#cite_note-46\"><span class=\"cite-bracket\">[</span>39<span class=\"cite-bracket\">]</span></a></sup> SES-8 was inserted into a <a href=\"/wiki/Geostationary_transfer_orbit\" title=\"Geostationary transfer orbit\">Super-Synchronous Transfer Orbit</a> of 79,341 km (49,300 mi) in apogee with an <a href=\"/wiki/Orbital_inclination\" title=\"Orbital inclination\">inclination</a> of 20.55° to the <a href=\"/wiki/Equator\" title=\"Equator\">equator</a>.\n",
      "</td></tr></tbody></table>\n"
     ]
    }
   ],
   "source": [
    "# Let's print the third table and check its content\n",
    "first_launch_table = html_tables[2]\n",
    "print(first_launch_table)"
   ]
  },
  {
   "cell_type": "markdown",
   "metadata": {},
   "source": [
    "You should able to see the columns names embedded in the table header elements `<th>` as follows:\n"
   ]
  },
  {
   "cell_type": "markdown",
   "metadata": {},
   "source": [
    "```\n",
    "<tr>\n",
    "<th scope=\"col\">Flight No.\n",
    "</th>\n",
    "<th scope=\"col\">Date and<br/>time (<a href=\"/wiki/Coordinated_Universal_Time\" title=\"Coordinated Universal Time\">UTC</a>)\n",
    "</th>\n",
    "<th scope=\"col\"><a href=\"/wiki/List_of_Falcon_9_first-stage_boosters\" title=\"List of Falcon 9 first-stage boosters\">Version,<br/>Booster</a> <sup class=\"reference\" id=\"cite_ref-booster_11-0\"><a href=\"#cite_note-booster-11\">[b]</a></sup>\n",
    "</th>\n",
    "<th scope=\"col\">Launch site\n",
    "</th>\n",
    "<th scope=\"col\">Payload<sup class=\"reference\" id=\"cite_ref-Dragon_12-0\"><a href=\"#cite_note-Dragon-12\">[c]</a></sup>\n",
    "</th>\n",
    "<th scope=\"col\">Payload mass\n",
    "</th>\n",
    "<th scope=\"col\">Orbit\n",
    "</th>\n",
    "<th scope=\"col\">Customer\n",
    "</th>\n",
    "<th scope=\"col\">Launch<br/>outcome\n",
    "</th>\n",
    "<th scope=\"col\"><a href=\"/wiki/Falcon_9_first-stage_landing_tests\" title=\"Falcon 9 first-stage landing tests\">Booster<br/>landing</a>\n",
    "</th></tr>\n",
    "```\n"
   ]
  },
  {
   "cell_type": "markdown",
   "metadata": {},
   "source": [
    "Next, we just need to iterate through the `<th>` elements and apply the provided `extract_column_from_header()` to extract column name one by one\n"
   ]
  },
  {
   "cell_type": "code",
   "execution_count": 34,
   "metadata": {
    "tags": []
   },
   "outputs": [
    {
     "name": "stdout",
     "output_type": "stream",
     "text": [
      "Found 25 tables\n",
      "Column names: ['Flight No.', 'Date and time ( )', 'Launch site', 'Payload', 'Payload mass', 'Orbit', 'Customer', 'Launch outcome']\n"
     ]
    }
   ],
   "source": [
    "# --- assume you already have `soup` ---\n",
    "# If you previously got 403s, make sure you set a proper User-Agent when creating `soup`.\n",
    "\n",
    "# 1) Collect tables safely\n",
    "html_tables = soup.find_all(\"table\")\n",
    "print(f\"Found {len(html_tables)} tables\")\n",
    "\n",
    "if not html_tables:\n",
    "    raise RuntimeError(\"No <table> elements found. Check that the request returned HTML (status 200) and not a 403/redirect.\")\n",
    "\n",
    "# 2) Prefer Wikipedia 'wikitable' tables if present\n",
    "wikitable_candidates = soup.select(\"table.wikitable\")\n",
    "tables_to_search = wikitable_candidates or html_tables\n",
    "\n",
    "# 3) Pick the first table whose headers look relevant\n",
    "def table_headers(tbl):\n",
    "    return [th.get_text(strip=True) for th in tbl.find_all(\"th\")]\n",
    "\n",
    "first_launch_table = None\n",
    "for tbl in tables_to_search:\n",
    "    hdrs = table_headers(tbl)\n",
    "    if any((\"Launch\" in h or \"Booster\" in h or \"Payload\" in h) for h in hdrs):\n",
    "        first_launch_table = tbl\n",
    "        break\n",
    "\n",
    "# fallback to the first table if nothing matched\n",
    "first_launch_table = first_launch_table or tables_to_search[0]\n",
    "\n",
    "# 4) Find the first row that actually has <th> cells (covers <thead> and plain header rows)\n",
    "header_row = next((tr for tr in first_launch_table.find_all(\"tr\") if tr.find(\"th\")), None)\n",
    "if header_row is None:\n",
    "    raise RuntimeError(\"No header row (<th>) found in the selected table.\")\n",
    "\n",
    "ths = header_row.find_all(\"th\")\n",
    "\n",
    "# 5) Extract clean header names using provided helper if available; fallback to plain text\n",
    "column_names = []\n",
    "for th in ths:\n",
    "    try:\n",
    "        name = extract_column_from_header(th)  # provided by your lab\n",
    "    except NameError:\n",
    "        name = th.get_text(strip=True)  # fallback if helper isn't defined\n",
    "\n",
    "    if name:\n",
    "        column_names.append(name)\n",
    "\n",
    "print(\"Column names:\", column_names)\n",
    "\n",
    "# 6) Optional: sanity checks / debug\n",
    "if not column_names:\n",
    "    # Print raw header texts to help debug if extraction wiped everything\n",
    "    raw = [th.get_text(strip=True) for th in ths]\n",
    "    print(\"No column names extracted; raw header texts:\", raw)\n"
   ]
  },
  {
   "cell_type": "markdown",
   "metadata": {},
   "source": [
    "Check the extracted column names\n"
   ]
  },
  {
   "cell_type": "code",
   "execution_count": 35,
   "metadata": {
    "tags": []
   },
   "outputs": [
    {
     "name": "stdout",
     "output_type": "stream",
     "text": [
      "['Flight No.', 'Date and time ( )', 'Launch site', 'Payload', 'Payload mass', 'Orbit', 'Customer', 'Launch outcome']\n"
     ]
    }
   ],
   "source": [
    "print(column_names)"
   ]
  },
  {
   "cell_type": "markdown",
   "metadata": {},
   "source": [
    "## TASK 3: Create a data frame by parsing the launch HTML tables\n"
   ]
  },
  {
   "cell_type": "markdown",
   "metadata": {},
   "source": [
    "We will create an empty dictionary with keys from the extracted column names in the previous task. Later, this dictionary will be converted into a Pandas dataframe\n"
   ]
  },
  {
   "cell_type": "code",
   "execution_count": 36,
   "metadata": {
    "tags": []
   },
   "outputs": [],
   "source": [
    "launch_dict= dict.fromkeys(column_names)\n",
    "\n",
    "# Remove an irrelvant column\n",
    "del launch_dict['Date and time ( )']\n",
    "\n",
    "# Let's initial the launch_dict with each value to be an empty list\n",
    "launch_dict['Flight No.'] = []\n",
    "launch_dict['Launch site'] = []\n",
    "launch_dict['Payload'] = []\n",
    "launch_dict['Payload mass'] = []\n",
    "launch_dict['Orbit'] = []\n",
    "launch_dict['Customer'] = []\n",
    "launch_dict['Launch outcome'] = []\n",
    "# Added some new columns\n",
    "launch_dict['Version Booster']=[]\n",
    "launch_dict['Booster landing']=[]\n",
    "launch_dict['Date']=[]\n",
    "launch_dict['Time']=[]"
   ]
  },
  {
   "cell_type": "markdown",
   "metadata": {},
   "source": [
    "Next, we just need to fill up the `launch_dict` with launch records extracted from table rows.\n"
   ]
  },
  {
   "cell_type": "markdown",
   "metadata": {},
   "source": [
    "Usually, HTML tables in Wiki pages are likely to contain unexpected annotations and other types of noises, such as reference links `B0004.1[8]`, missing values `N/A [e]`, inconsistent formatting, etc.\n"
   ]
  },
  {
   "cell_type": "markdown",
   "metadata": {},
   "source": [
    "To simplify the parsing process, we have provided an incomplete code snippet below to help you to fill up the `launch_dict`. Please complete the following code snippet with TODOs or you can choose to write your own logic to parse all launch tables:\n"
   ]
  },
  {
   "cell_type": "code",
   "execution_count": 38,
   "metadata": {
    "tags": []
   },
   "outputs": [
    {
     "name": "stdout",
     "output_type": "stream",
     "text": [
      "Row 1: 1 4 June 2010 18:45 F9 v1.07B0003.18 CCAFS,SLC-40 Dragon Spacecraft Qualification Unit 0 LEO SpaceX Success Failure\n",
      "Row 2: 2 8 December 2010 15:43 F9 v1.07B0004.18 CCAFS,SLC-40 Dragondemo flight C1(Dragon C101) 0 LEO(ISS) NASA(COTS)NRO Success[9] Failure\n",
      "Row 3: 3 22 May 2012 07:44 F9 v1.07B0005.18 CCAFS,SLC-40 Dragondemo flight C2+[18](Dragon C102) 525 kg LEO(ISS) NASA(COTS) Success[20] No attempt\n",
      "\n",
      "Row 4: 4 8 October 2012 00:35 F9 v1.07B0006.18 CCAFS,SLC-40 SpaceX CRS-1[22](Dragon C103) 4,700 kg LEO(ISS) NASA(CRS) Success No attempt\n",
      "Row 5: 5 1 March 2013 15:10 F9 v1.07B0007.18 CCAFS,SLC-40 SpaceX CRS-2[22](Dragon C104) 4,877 kg LEO(ISS) NASA(CRS) Success No attempt\n",
      "\n",
      "Row 6: 6 29 September 2013 16:00 F9 v1.17B10038 VAFB,SLC-4E CASSIOPE[22][31] 500 kg Polar orbitLEO MDA Success[30] Uncontrolled\n",
      "Row 7: 7 3 December 2013 22:41 F9 v1.1B1004 CCAFS,SLC-40 SES-8[22][35][36] 3,170 kg GTO SES Success[37] No attempt\n",
      "Row 8: 8 6 January 2014 22:06 F9 v1.1 CCAFS,SLC-40 Thaicom 6[22] 3,325 kg GTO Thaicom Success[42] No attempt\n",
      "Row 9: 9 18 April 2014 19:25 F9 v1.1 Cape Canaveral,LC-40 SpaceX CRS-3[22](Dragon C105) 2,296 kg LEO(ISS) NASA(CRS) Success Controlled\n",
      "Row 10: 10 14 July 2014 15:15 F9 v1.1 Cape Canaveral,LC-40 Orbcomm-OG2-1(6 satellites)[22] 1,316 kg LEO Orbcomm Success[51] Controlled\n",
      "Row 11: 11 5 August 2014 08:00 F9 v1.1 Cape Canaveral,LC-40 AsiaSat 8[22][54][55] 4,535 kg GTO AsiaSat Success[56] No attempt\n",
      "Row 12: 12 7 September 2014 05:00 F9 v1.1[ Cape Canaveral,LC-40 AsiaSat 6[22][54][58] 4,428 kg GTO AsiaSat Success[59] No attempt\n",
      "\n",
      "Row 13: 13 21 September 2014 05:52 F9 v1.1[ Cape Canaveral,LC-40 SpaceX CRS-4[22](DragonC106.1) 2,216 kg LEO(ISS) NASA(CRS) Success[63] Uncontrolled\n",
      "Row 14: 14 10 January 2015 09:47 F9 v1.1[ Cape Canaveral,LC-40 SpaceX CRS-5[68](Dragon C107) 2,395 kg LEO(ISS) NASA(CRS) Success[70] Failure \n",
      "Row 15: 15 11 February 2015 23:03 F9 v1.1[ Cape Canaveral,LC-40 DSCOVR[68][73] 570 kg HEO(Sun–Earth L1insertion) USAFNASANOAA Success Controlled\n",
      "Row 16: 16 2 March 2015 03:50 F9 v1.1[ Cape Canaveral,LC-40 ABS-3AEutelsat 115 West B[68] 4,159 kg GTO ABSEutelsat Success No attempt\n",
      "Row 17: 17 14 April 2015 20:10 F9 v1.1[ Cape Canaveral,LC-40 SpaceX CRS-6[68](DragonC108.1) 1,898 kg LEO(ISS) NASA(CRS) Success Failure\n",
      "Row 18: 18 27 April 2015 23:03 F9 v1.1[ Cape Canaveral,LC-40 TürkmenÄlem 52°E / MonacoSAT[68][87] 4,707 kg GTO Turkmenistan NationalSpace Agency[88] Success No attempt\n",
      "Row 19: 19 28 June 2015 14:21 F9 v1.1[ Cape Canaveral,LC-40 SpaceX CRS-7[68](Dragon C109) 1,952 kg LEO(ISS) NASA(CRS) Failure[93](in flight) Precluded\n",
      "Row 20: 20 22 December 2015 01:29 F9 FT[ Cape Canaveral,LC-40 Orbcomm-OG2-2(11 satellites)[22][97] 2,034 kg LEO Orbcomm Success Success\n",
      "Row 21: 21 17 January 2016 18:42 F9 v1.1[ VAFB,SLC-4E Jason-3[68][104] 553 kg LEO NASA(LSP)NOAACNES Success Failure\n",
      "Row 22: 22 4 March 2016 23:35 F9 FT[ Cape Canaveral,LC-40 SES-9[68][109][110] 5,271 kg GTO SES Success Failure\n",
      "Row 23: 23 8 April 2016 20:43 F9 FT[ Cape Canaveral,LC-40 SpaceX CRS-8[68][110](Dragon C110.1) 3,136 kg LEO(ISS) NASA(CRS) Success[117] Success\n",
      "Row 24: 24 6 May 2016 05:21 F9 FT[ Cape Canaveral,LC-40 JCSAT-14[123] 4,696 kg GTO SKY Perfect JSAT Group Success Success\n",
      "Row 25: 25 27 May 2016 21:39 F9 FT[ Cape Canaveral,LC-40 Thaicom 8[130][131] 3,100 kg GTO Thaicom Success Success\n",
      "Row 26: 26 15 June 2016 14:29 F9 FT[ Cape Canaveral,LC-40 ABS-2AEutelsat 117 West B[68] 3,600 kg GTO ABSEutelsat Success Failure\n",
      "Row 27: 27 18 July 2016 04:45 F9 FT[ Cape Canaveral,LC-40 SpaceX CRS-9[68][141](Dragon C111.1) 2,257 kg LEO(ISS) NASA(CRS) Success Success\n",
      "Row 28: 28 14 August 2016 05:26 F9 FT[ Cape Canaveral,LC-40 JCSAT-16 4,600 kg GTO SKY Perfect JSAT Group Success Success\n",
      "Row 29: 29 14 January 2017 17:54 F9 FT[ VAFB,SLC-4E Iridium NEXT-1(10 satellites)[152][153] 9,600 kg PolarLEO Iridium Communications Success Success\n",
      "Row 30: 30 19 February 2017 14:39 F9 FT[ KSC,LC-39A SpaceX CRS-10[141](Dragon C112.1) 2,490 kg LEO(ISS) NASA(CRS) Success Success\n",
      "Row 31: 31 16 March 2017 06:00 F9 FT[ KSC,LC-39A EchoStar 23 5,600 kg GTO EchoStar Success No attempt\n",
      "Row 32: 32 30 March 2017 22:27 F9 FT♺[ KSC,LC-39A SES-10[109][168] 5,300 kg GTO SES Success[170] Success\n",
      "Row 33: 33 1 May 2017 11:15 F9 FT[ KSC,LC-39A NROL-76[174] C LEO[175] NRO Success Success\n",
      "Row 34: 34 15 May 2017 23:21 F9 FT[ KSC,LC-39A Inmarsat-5 F4[180] 6,070 kg GTO Inmarsat Success No attempt\n",
      "Row 35: 35 3 June 2017 21:07 F9 FT[ KSC,LC-39A SpaceX CRS-11[141](Dragon C106.2 ♺) 2,708 kg LEO(ISS) NASA(CRS) Success Success\n",
      "Row 36: 36 23 June 2017 19:10 F9 FTB1029.2195 KSC,LC-39A BulgariaSat-1[196] 3,669 kg GTO Bulsatcom Success Success\n",
      "Row 37: 37 25 June 2017 20:25 F9 FT[ VAFB,SLC-4E Iridium NEXT-2(10 satellites) 9,600 kg LEO Iridium Communications Success Success\n",
      "Row 38: 38 5 July 2017 23:38 F9 FT[ KSC,LC-39A Intelsat 35e[201] 6,761 kg GTO Intelsat Success No attempt\n",
      "Row 39: 39 14 August 2017 16:31 F9 B4[ KSC,LC-39A SpaceX CRS-12[141](Dragon C113.1) 3,310 kg LEO(ISS) NASA(CRS) Success Success\n",
      "Row 40: 40 24 August 2017 18:51 F9 FT[ VAFB,SLC-4E Formosat-5[210][211] 475 kg SSO NSPO Success Success\n",
      "Row 41: 41 7 September 2017 14:00 F9 B4[ KSC,LC-39A Boeing X-37BOTV-5 4,990 kg LEO USAF Success Success\n",
      "Row 42: 42 9 October 2017 12:37 F9 B4[ VAFB,SLC-4E Iridium NEXT-3(10 satellites)[152] 9,600 kg PolarLEO Iridium Communications Success Success\n",
      "Row 43: 43 11 October 2017 22:53:00 F9 FTB1031.2220 KSC,LC-39A SES-11/EchoStar 105 5,200 kg GTO SES S.A.EchoStar Success Success\n",
      "Row 44: 44 30 October 2017 19:34 F9 B4[ KSC,LC-39A Koreasat 5A[222] 3,500 kg GTO KT Corporation Success Success\n",
      "Row 45: 45 15 December 2017 15:36 F9 FTB1035.2227 Cape Canaveral,SLC-40 SpaceX CRS-13[141](Dragon C108.2 ♺) 2,205 kg LEO(ISS) NASA(CRS) Success Success\n",
      "Row 46: 46 23 December 2017 01:27 F9 FTB1036.2227 VAFB,SLC-4E Iridium NEXT-4(10 satellites)[152] 9,600 kg PolarLEO Iridium Communications Success[230] Controlled\n",
      "Row 47: 47 8 January 2018 01:00 F9 B4[ CCAFS,SLC-40 Zuma[238][239][240] C LEO Northrop Grumman[f][238] Success[241] Success\n",
      "Row 48: 48 31 January 2018 21:25 F9 FTB1032.2245 CCAFS,SLC-40 GovSat-1(SES-16)[246] 4,230 kg GTO SES Success[248] Controlled\n",
      "Row 49: 49 22 February 2018 14:17 F9 FTB1038.2268 VAFB,SLC-4E Paz[269]Tintin A and Tintin B[270] 2,150 kg SSO HisdesatexactEarthSpaceX Success[271] No attempt\n",
      "Row 50: 50 6 March 2018 05:33 F9 B4[ CCAFS,SLC-40 Hispasat 30W-6[277]PODSat[278] 6,092 kg GTO Hispasat[277]NovaWurks Success[280] No attempt\n",
      "Row 51: 51 30 March 2018 14:14 F9 B4B1041.2268 VAFB,SLC-4E Iridium NEXT-5(10 satellites)[152] 9,600 kg PolarLEO Iridium Communications Success[286] No attempt\n",
      "Row 52: 52 2 April 2018 20:30 F9 B4B1039.2292 CCAFS,SLC-40 SpaceX CRS-14[141](Dragon C110.2 ♺) 2,647 kg LEO(ISS) NASA(CRS) Success[293] No attempt\n",
      "Row 53: 53 18 April 2018 22:51 F9 B4[ CCAFS,SLC-40 Transiting Exoplanet Survey Satellite(TESS)[304] 362 kg HEOforP/2 orbit NASA(LSP) Success[306] Success\n",
      "Row 54: 54 11 May 2018 20:14 F9 B5311B1046.1268 KSC,LC-39A Bangabandhu-1[312][313] 3,600 kg GTO Thales-Alenia/BTRC Success[315] Success\n",
      "Row 55: 55 22 May 2018 19:47 F9 B4B1043.2322 VAFB,SLC-4E Iridium NEXT-6(5 satellites)[152][155]GRACE-FO× 2[323][324] 6,460 kg PolarLEO Iridium CommunicationsGFZ•NASA Success[327] No attempt\n",
      "Row 56: 56 4 June 2018 04:45 F9 B4B1040.2268 CCAFS,SLC-40 SES-12[331] 5,384 kg GTO SES Success[333] No attempt\n",
      "Row 57: 57 29 June 2018 09:42 F9 B4B1045.2336 CCAFS,SLC-40 SpaceX CRS-15(Dragon C111.2 ♺) 2,697 kg LEO(ISS) NASA(CRS) Success[338] No attempt\n",
      "Row 58: 58 22 July 2018 05:50 F9 B5 CCAFS,SLC-40 Telstar 19V[341] 7,075 kg GTO[343] Telesat Success[344] Success\n",
      "Row 59: 59 25 July 2018 11:39 F9 B5349B1048[ VAFB,SLC-4E Iridium NEXT-7(10 satellites)[152] 9,600 kg PolarLEO Iridium Communications Success[351] Success\n",
      "Row 60: 60 7 August 2018 05:18 F9 B5B1046.2354 CCAFS,SLC-40 Merah Putih(formerly Telkom 4)[355][356] 5,800 kg GTO Telkom Indonesia Success[358] Success\n",
      "Row 61: 61 10 September 2018 04:45 F9 B5[ CCAFS,SLC-40 Telstar 18V/Apstar-5C[341] 7,060 kg GTO[361] Telesat Success[361] Success\n",
      "Row 62: 62 8 October 2018 02:22 F9 B5B1048.2364 VAFB,SLC-4E SAOCOM 1A[365][366] 3,000 kg SSO CONAE Success[363] Success\n",
      "Row 63: 63 15 November 2018 20:46 F9 B5B1047.2268 KSC,LC-39A Es'hail 2[368] 5,300 kg GTO Es'hailSat Success[370] Success\n",
      "Row 64: 64 3 December 2018 18:34:05 F9 B5B1046.3268 VAFB,SLC-4E SSO-A(SmallSat Express) ~4,000 kg SSO Spaceflight Industries Success[373] Success\n",
      "Row 65: 65 5 December 2018 18:16 F9 B5[ CCAFS,SLC-40 SpaceX CRS-16(Dragon C112.2♺ ) 2,500 kg LEO(ISS) NASA(CRS) Success Failure\n",
      "Row 66: 66 23 December 2018 13:51 F9 B5[ CCAFS,SLC-40 GPS III-01(Vespucci) 4,400 kg MEO USAF Success[386] No attempt\n",
      "Row 67: 67 11 January 2019 15:31 F9 B5B1049.2397 VAFB,SLC-4E Iridium NEXT-8(10 satellites)[152] 9,600 kg PolarLEO Iridium Communications Success Success\n",
      "Row 68: 68 22 February 2019 01:45 F9 B5B1048.3399 CCAFS,SLC-40 Nusantara Satu(PSN-6)[400]BeresheetMoon lander[401]S5[402] 4,850 kg GTO PSNSpaceIL/IAIAir Force Research Success Success\n",
      "Row 69: 69 2 March 2019 07:49 F9 B5[]413 KSC,LC-39A Crew Dragon Demo-1[414](Dragon C201) 12,055 kg LEO(ISS) NASA(CCD) Success Success\n",
      "Row 70: 70 4 May 2019 06:48 F9 B5[ CCAFS,SLC-40 SpaceX CRS-17[141](Dragon C113.2 ♺) 2,495 kg LEO(ISS) NASA(CRS) Success Success\n",
      "Row 71: 71 24 May 2019 02:30 F9 B5B1049.3434 CCAFS,SLC-40 Starlinkv0.9(60 satellites) 13,620 kg LEO SpaceX Success Success\n",
      "Row 72: 72 12 June 2019 14:17 F9 B5B1051.2420 VAFB,SLC-4E RADARSAT Constellation(3 satellites) 4,200 kg SSO Canadian Space Agency(CSA) Success Success\n",
      "Row 73: 73 25 July 2019 22:01 F9 B5B1056.2465 CCAFSSLC-40 SpaceX CRS-18[141](Dragon C108.3 ♺) 2,268 kg LEO(ISS) NASA(CRS) Success Success\n",
      "Row 74: 74 6 August 2019 23:23 F9 B5B1047.3472 CCAFS,SLC-40 AMOS-17[473] 6,500 kg GTO Spacecom Success No attempt\n",
      "Row 75: 75 11 November 2019 14:56 F9 B5 CCAFS,SLC-40 Starlink1 v1.0 (60 satellites) 15,600 kg LEO SpaceX Success Success\n",
      "Row 76: 76 5 December 2019 17:29 F9 B5[ CCAFS,SLC-40 SpaceX CRS-19[483](Dragon C106.3 ♺) 2,617 kg LEO(ISS) NASA(CRS) Success Success\n",
      "Row 77: 77 17 December 2019 00:10 F9 B5B1056.3482 CCAFS,SLC-40 JCSat-18/Kacific 1[487] 6,956 kg GTO Sky Perfect JSATKacific 1 Success Success\n",
      "Row 78: 78 7 January 2020 02:19:21 F9 B5 CCAFS,SLC-40 Starlink2 v1.0 (60 satellites) 15,600 kg LEO SpaceX Success Success\n",
      "Row 79: 79 19 January 2020 15:30 F9 B5 KSC,LC-39A Crew Dragon in-flight abort test[495](Dragon C205.1) 12,050 kg Sub-orbital[496] NASA(CTS)[497] Success No attempt\n",
      "\n",
      "Row 80: 80 29 January 2020 14:07 F9 B5 CCAFS,SLC-40 Starlink3 v1.0 (60 satellites) 15,600 kg LEO SpaceX Success Success\n",
      "Row 81: 81 17 February 2020 15:05 F9 B5 CCAFS,SLC-40 Starlink4 v1.0 (60 satellites) 15,600 kg LEO SpaceX Success Failure\n",
      "Row 82: 82 7 March 2020 04:50 F9 B5 CCAFS,SLC-40 SpaceX CRS-20(Dragon C112.3 ♺) 1,977 kg LEO(ISS) NASA(CRS) Success Success\n",
      "Row 83: 83 18 March 2020 12:16 F9 B5 KSC,LC-39A Starlink5 v1.0 (60 satellites) 15,600 kg LEO SpaceX Success Failure\n",
      "Row 84: 84 22 April 2020 19:30 F9 B5 KSC,LC-39A Starlink6 v1.0 (60 satellites) 15,600 kg LEO SpaceX Success Success\n",
      "Row 85: 85 30 May 2020 19:22 F9 B5[ KSC,LC-39A Crew Dragon Demo-2[414](Crew Dragon C206.1Endeavour) 12,530 kg LEO(ISS) NASA(CCDev) Success Success\n",
      "Row 86: 86 4 June 2020 01:25 F9 B5 CCAFS,SLC-40 Starlink7 v1.0 (60 satellites) 15,600 kg LEO SpaceX Success Success\n",
      "Row 87: 87 13 June 2020 09:21 F9 B5 CCAFS,SLC-40 Starlink8 v1.0 (58 satellites),[524][525]SkySats-16, -17, -18 15,410 kg LEO SpaceXPlanet Labs Success Success\n",
      "Row 88: 88 30 June 2020 20:10:46 F9 B5 CCAFS,SLC-40 GPS III-03(Matthew Henson) 4,311 kg MEO U.S. Space Force[530] Success Success\n",
      "Row 89: 89 20 July 2020 21:30 F9 B5B1058.2544 CCAFS,SLC-40 ANASIS-II 5,000–6,000 kg GTO Republic of Korea Army Success Success\n",
      "Row 90: 90 7 August 2020 05:12 F9 B5 KSC,LC-39A Starlink9 v1.0 (57 Satellites),[524]SXRS-1 (BlackSky Global 7 and 8) 14,932 kg LEO SpaceXSpaceflight Industries(BlackSky) Success Success\n",
      "Row 91: 91 18 August 2020 14:31 F9 B5B1049.6544 CCAFS,SLC-40 Starlink10 v1.0 (58 satellites)SkySat-19, -20, -21 ~15,440 kg LEO SpaceXPlanet Labs Success Success\n",
      "Row 92: 92 30 August 2020 23:18 F9 B5 CCAFS,SLC-40 SAOCOM 1B[556]GNOMES 1[556]Tyvak-0172[557] 3,130 kg SSO CONAEPlanetIQTyvak Success Success\n",
      "Row 93: 93 3 September 2020 12:46:14 F9 B5B1060.2563 KSC,LC-39A Starlink11 v1.0 (60 satellites) 15,600 kg LEO SpaceX Success Success\n",
      "Row 94: 94 6 October 2020 11:29:34 F9 B5B1058.3565 KSC,LC-39A Starlink12 v1.0 (60 satellites) 15,600 kg LEO SpaceX Success Success\n",
      "Row 95: 95 18 October 2020 12:25:57 F9 B5B1051.6568 KSC,LC-39A Starlink13 v1.0 (60 satellites) 15,600 kg LEO SpaceX Success Success\n",
      "Row 96: 96 24 October 2020 15:31:34 F9 B5 CCAFS,SLC-40 Starlink14 v1.0 (60 satellites) 15,600 kg LEO SpaceX Success Success\n",
      "Row 97: 97 5 November 2020 23:24:23 F9 B5 CCAFS,SLC-40 GPS III-04(Sacagawea)[541][573] 4,311 kg MEO USSF Success Success\n",
      "Row 98: 98 16 November 2020 00:27 F9 B5[ KSC,LC-39A Crew-1(Crew Dragon C207.1Resilience) ~12,500 kg LEO(ISS) NASA(CCP)[497] Success Success\n",
      "Row 99: 99 21 November 2020 17:17:08 F9 B5 VAFB,SLC-4E Sentinel-6 Michael Freilich (Jason-CS A) 1,192 kg LEO NASA/NOAA/ESA/EUMETSAT Success Success\n",
      "Row 100: 100 25 November 2020 02:13 F9 B5 ♺[ CCAFS,SLC-40 Starlink15 v1.0 (60 satellites) 15,600 kg LEO SpaceX Success Success\n",
      "Row 101: 101 6 December 2020 16:17:08 F9 B5 ♺[ KSC,LC-39A SpaceX CRS-21(Dragon C208.1) 2,972 kg LEO(ISS) NASA(CRS) Success Success\n",
      "Row 102: 102 13 December 2020 17:30:00 F9 B5 ♺ CCSFS,SLC-40[597] SXM-7 7,000 kg GTO Sirius XM Success Success\n",
      "Row 103: 103 19 December 2020 14:00:00 F9 B5 ♺ KSC,LC-39A NROL-108 C LEO NRO Success Success\n",
      "Row 104: 104 8 January 2021 02:15 F9 B5 CCSFS,SLC-40 Türksat 5A[605] 3,500 kg GTO Türksat Success Success\n",
      "Row 105: 105 20 January 2021 13:02 F9 B5B1051.8609 KSC,LC-39A Starlink16 v1.0 (60 satellites) 15,600 kg LEO SpaceX Success Success\n",
      "Row 106: 106 24 January 2021 15:00 F9 B5B1058.5613 CCSFS,SLC-40 Transporter-1(143 smallsat rideshare) ~5,000 kg SSO Various Success Success\n",
      "Row 107: 107 4 February 2021 06:19 F9 B5 ♺[ CCSFS,SLC-40 Starlink18 v1.0 (60 satellites) 15,600 kg LEO SpaceX Success Success\n",
      "Row 108: 108 16 February 2021 03:59:37 F9 B5 ♺ CCSFS,SLC-40 Starlink19 v1.0 (60 satellites)[627] 15,600 kg LEO SpaceX Success Failure\n",
      "Row 109: 109 4 March 2021 08:24 F9 B5 ♺[ KSC,LC-39A Starlink17 v1.0 (60 satellites) 15,600 kg LEO SpaceX Success Success\n",
      "Row 110: 110 11 March 2021 08:13:29 F9 B5 ♺[ CCSFS,SLC-40 Starlink20 v1.0 (60 satellites) 15,600 kg LEO SpaceX Success Success\n",
      "Row 111: 111 14 March 2021 10:01 F9 B5 ♺ KSC,LC-39A Starlink21 v1.0 (60 satellites) 15,600 kg LEO SpaceX Success Success\n",
      "Row 112: 112 24 March 2021 08:28 F9 B5B1060.6643 CCSFS,SLC-40 Starlink22 v1.0 (60 satellites) 15,600 kg LEO SpaceX Success Success\n",
      "Row 113: 113 7 April 2021 16:34 F9 B5 ♺ CCSFS,SLC-40 Starlink23 v1.0 (60 satellites) 15,600 kg LEO SpaceX Success Success\n",
      "Row 114: 114 23 April 2021 9:49 F9 B5B1061.2647 KSC,LC-39A Crew-2(Crew Dragon C206.2Endeavour♺) ~13,000 kg LEO(ISS) NASA(CTS)[497] Success Success\n",
      "Row 115: 115 29 April 2021 03:44 F9 B5B1060.7652 CCSFS,SLC-40 Starlink24 v1.0 (60 satellites) 15,600 kg LEO SpaceX Success Success\n",
      "Row 116: 116 4 May 2021 19:01 F9 B5B1049.9655 KSC,LC-39A Starlink25 v1.0 (60 satellites) 15,600 kg LEO SpaceX Success Success\n",
      "Row 117: 117 9 May 2021 06:42 F9 B5B1051.10657 CCSFS,SLC-40 Starlink27 v1.0 (60 satellites) 15,600 kg LEO SpaceX Success Success\n",
      "Row 118: 118 15 May 2021 22:56 F9 B5B1058.8660 KSC,LC-39A[661] Starlink26 v1.0 (52 Satellites)Capella-6 &Tyvak-0130[662] ~14,000 kg LEO SpaceXCapella SpaceandTyvak Success Success\n",
      "Row 119: 119 26 May 2021 18:59 F9 B5B1063.2665 CCSFS,SLC-40[665] Starlink28 v1.0 (60 Satellites)[665] 15,600 kg LEO SpaceX Success Success\n",
      "Row 120: 120 3 June 2021 17:29 F9 B5B1067.1668 KSC,LC-39A SpaceX CRS-22(Dragon C209.1) 3,328 kg LEO(ISS) NASA(CRS) Success Success\n",
      "Row 121: 121 6 June 2021 04:26 F9 B5 CCSFS,SLC-40 SXM-8[674] 7,000 kg GTO Sirius XM Success Success\n"
     ]
    }
   ],
   "source": [
    "extracted_row = 0\n",
    "\n",
    "# Extract each table\n",
    "for table_number, table in enumerate(soup.find_all(\"table\", \"wikitable plainrowheaders collapsible\")):\n",
    "    # get table rows\n",
    "    for rows in table.find_all(\"tr\"):\n",
    "        # check if first table heading is a number corresponding to launch number\n",
    "        if rows.th and rows.th.string:\n",
    "            flight_number = rows.th.string.strip()\n",
    "            flag = flight_number.isdigit()\n",
    "        else:\n",
    "            flag = False\n",
    "\n",
    "        # get table cells\n",
    "        row = rows.find_all(\"td\")\n",
    "\n",
    "        # if it is a number, save cells in a dictionary\n",
    "        if flag:\n",
    "            extracted_row += 1\n",
    "\n",
    "            # Flight Number\n",
    "            # launch_dict[\"Flight No.\"].append(flight_number)\n",
    "\n",
    "            # Date / Time\n",
    "            datatimelist = date_time(row[0])\n",
    "            date = datatimelist[0].strip(\",\")\n",
    "            time = datatimelist[1]\n",
    "\n",
    "            # Booster version\n",
    "            bv = booster_version(row[1])\n",
    "            if not bv:\n",
    "                bv = row[1].get_text(strip=True)\n",
    "\n",
    "            # Launch Site\n",
    "            launch_site = row[2].get_text(strip=True)\n",
    "\n",
    "            # Payload\n",
    "            payload = row[3].get_text(strip=True)\n",
    "\n",
    "            # Payload Mass\n",
    "            payload_mass = get_mass(row[4])\n",
    "\n",
    "            # Orbit\n",
    "            orbit = row[5].get_text(strip=True)\n",
    "\n",
    "            # Customer\n",
    "            customer = row[6].get_text(strip=True)\n",
    "\n",
    "            # Launch outcome\n",
    "            launch_outcome = row[7].get_text(strip=True)\n",
    "\n",
    "            # Booster landing\n",
    "            booster_landing = landing_status(row[8])\n",
    "\n",
    "            # For debugging\n",
    "            print(f\"Row {extracted_row}:\",\n",
    "                  flight_number, date, time, bv, launch_site,\n",
    "                  payload, payload_mass, orbit, customer,\n",
    "                  launch_outcome, booster_landing)\n",
    "\n",
    "        "
   ]
  },
  {
   "cell_type": "markdown",
   "metadata": {},
   "source": [
    "After you have fill in the parsed launch record values into `launch_dict`, you can create a dataframe from it.\n"
   ]
  },
  {
   "cell_type": "code",
   "execution_count": 40,
   "metadata": {
    "tags": []
   },
   "outputs": [],
   "source": [
    "df = pd.DataFrame({ \n",
    "    key: pd.Series(value, dtype=\"object\") for key, value in launch_dict.items() \n",
    "})\n"
   ]
  },
  {
   "cell_type": "markdown",
   "metadata": {},
   "source": [
    "We can now export it to a <b>CSV</b> for the next section, but to make the answers consistent and in case you have difficulties finishing this lab. \n",
    "\n",
    "Following labs will be using a provided dataset to make each lab independent. \n"
   ]
  },
  {
   "cell_type": "markdown",
   "metadata": {},
   "source": [
    "<code>df.to_csv('spacex_web_scraped.csv', index=False)</code>\n"
   ]
  },
  {
   "cell_type": "markdown",
   "metadata": {},
   "source": [
    "## Authors\n"
   ]
  },
  {
   "cell_type": "markdown",
   "metadata": {},
   "source": [
    "<a href=\"https://www.linkedin.com/in/yan-luo-96288783/\">Yan Luo</a>\n"
   ]
  },
  {
   "cell_type": "markdown",
   "metadata": {},
   "source": [
    "<a href=\"https://www.linkedin.com/in/nayefaboutayoun/\">Nayef Abou Tayoun</a>\n"
   ]
  },
  {
   "cell_type": "markdown",
   "metadata": {},
   "source": [
    "<!--\n",
    "## Change Log\n",
    "-->\n"
   ]
  },
  {
   "cell_type": "markdown",
   "metadata": {},
   "source": [
    "<!--\n",
    "| Date (YYYY-MM-DD) | Version | Changed By | Change Description      |\n",
    "| ----------------- | ------- | ---------- | ----------------------- |\n",
    "| 2021-06-09        | 1.0     | Yan Luo    | Tasks updates           |\n",
    "| 2020-11-10        | 1.0     | Nayef      | Created the initial version |\n",
    "-->\n"
   ]
  },
  {
   "cell_type": "markdown",
   "metadata": {},
   "source": [
    "Copyright © 2021 IBM Corporation. All rights reserved.\n"
   ]
  }
 ],
 "metadata": {
  "kernelspec": {
   "display_name": "Python",
   "language": "python",
   "name": "conda-env-python-py"
  },
  "language_info": {
   "codemirror_mode": {
    "name": "ipython",
    "version": 3
   },
   "file_extension": ".py",
   "mimetype": "text/x-python",
   "name": "python",
   "nbconvert_exporter": "python",
   "pygments_lexer": "ipython3",
   "version": "3.7.12"
  },
  "prev_pub_hash": "64f1b0aac408997185c47caba18730e0028b75e7934a0e5bf0ae73c5cb7ba677"
 },
 "nbformat": 4,
 "nbformat_minor": 4
}
